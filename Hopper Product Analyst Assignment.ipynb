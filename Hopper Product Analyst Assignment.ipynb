{
 "cells": [
  {
   "cell_type": "code",
   "execution_count": 6,
   "metadata": {},
   "outputs": [],
   "source": [
    "import pandas as pd\n",
    "import numpy as np"
   ]
  },
  {
   "cell_type": "code",
   "execution_count": 7,
   "metadata": {},
   "outputs": [],
   "source": [
    "df = pd.read_csv('productanalyst_assignmentdata.csv')"
   ]
  },
  {
   "cell_type": "code",
   "execution_count": 8,
   "metadata": {},
   "outputs": [
    {
     "data": {
      "text/plain": [
       "shop_date       object\n",
       "lodging_name    object\n",
       "market          object\n",
       "num_guests       int64\n",
       "check_in        object\n",
       "check_out       object\n",
       "advance          int64\n",
       "los              int64\n",
       "hopper_price    object\n",
       "competitor_1    object\n",
       "competitor_2    object\n",
       "competitor_3    object\n",
       "competitor_4    object\n",
       "dtype: object"
      ]
     },
     "execution_count": 8,
     "metadata": {},
     "output_type": "execute_result"
    }
   ],
   "source": [
    "df.dtypes"
   ]
  },
  {
   "cell_type": "code",
   "execution_count": 9,
   "metadata": {
    "scrolled": false
   },
   "outputs": [
    {
     "data": {
      "text/html": [
       "<div>\n",
       "<style scoped>\n",
       "    .dataframe tbody tr th:only-of-type {\n",
       "        vertical-align: middle;\n",
       "    }\n",
       "\n",
       "    .dataframe tbody tr th {\n",
       "        vertical-align: top;\n",
       "    }\n",
       "\n",
       "    .dataframe thead th {\n",
       "        text-align: right;\n",
       "    }\n",
       "</style>\n",
       "<table border=\"1\" class=\"dataframe\">\n",
       "  <thead>\n",
       "    <tr style=\"text-align: right;\">\n",
       "      <th></th>\n",
       "      <th>shop_date</th>\n",
       "      <th>lodging_name</th>\n",
       "      <th>market</th>\n",
       "      <th>num_guests</th>\n",
       "      <th>check_in</th>\n",
       "      <th>check_out</th>\n",
       "      <th>advance</th>\n",
       "      <th>los</th>\n",
       "      <th>hopper_price</th>\n",
       "      <th>competitor_1</th>\n",
       "      <th>competitor_2</th>\n",
       "      <th>competitor_3</th>\n",
       "      <th>competitor_4</th>\n",
       "    </tr>\n",
       "  </thead>\n",
       "  <tbody>\n",
       "    <tr>\n",
       "      <th>0</th>\n",
       "      <td>12/19/2022</td>\n",
       "      <td>Hotel 19</td>\n",
       "      <td>Atlanta</td>\n",
       "      <td>2</td>\n",
       "      <td>12/19</td>\n",
       "      <td>12/20</td>\n",
       "      <td>0</td>\n",
       "      <td>1</td>\n",
       "      <td>73</td>\n",
       "      <td>118</td>\n",
       "      <td>101</td>\n",
       "      <td>118</td>\n",
       "      <td>118</td>\n",
       "    </tr>\n",
       "    <tr>\n",
       "      <th>1</th>\n",
       "      <td>12/19/2022</td>\n",
       "      <td>Hotel 19</td>\n",
       "      <td>Atlanta</td>\n",
       "      <td>2</td>\n",
       "      <td>12/22</td>\n",
       "      <td>12/23</td>\n",
       "      <td>3</td>\n",
       "      <td>1</td>\n",
       "      <td>85</td>\n",
       "      <td>120</td>\n",
       "      <td>113</td>\n",
       "      <td>120</td>\n",
       "      <td>132</td>\n",
       "    </tr>\n",
       "    <tr>\n",
       "      <th>2</th>\n",
       "      <td>12/19/2022</td>\n",
       "      <td>Hotel 19</td>\n",
       "      <td>Atlanta</td>\n",
       "      <td>2</td>\n",
       "      <td>12/19</td>\n",
       "      <td>12/23</td>\n",
       "      <td>0</td>\n",
       "      <td>4</td>\n",
       "      <td>418</td>\n",
       "      <td>477</td>\n",
       "      <td>439</td>\n",
       "      <td>477</td>\n",
       "      <td>515</td>\n",
       "    </tr>\n",
       "    <tr>\n",
       "      <th>3</th>\n",
       "      <td>12/19/2022</td>\n",
       "      <td>Hotel 19</td>\n",
       "      <td>Atlanta</td>\n",
       "      <td>2</td>\n",
       "      <td>12/22</td>\n",
       "      <td>12/26</td>\n",
       "      <td>3</td>\n",
       "      <td>4</td>\n",
       "      <td>466</td>\n",
       "      <td>531</td>\n",
       "      <td>501</td>\n",
       "      <td>531</td>\n",
       "      <td>588</td>\n",
       "    </tr>\n",
       "    <tr>\n",
       "      <th>4</th>\n",
       "      <td>12/19/2022</td>\n",
       "      <td>Hotel 19</td>\n",
       "      <td>Atlanta</td>\n",
       "      <td>2</td>\n",
       "      <td>12/19</td>\n",
       "      <td>12/25</td>\n",
       "      <td>0</td>\n",
       "      <td>6</td>\n",
       "      <td>618</td>\n",
       "      <td>717</td>\n",
       "      <td>665</td>\n",
       "      <td>717</td>\n",
       "      <td>780</td>\n",
       "    </tr>\n",
       "  </tbody>\n",
       "</table>\n",
       "</div>"
      ],
      "text/plain": [
       "    shop_date lodging_name   market  num_guests check_in check_out  advance  \\\n",
       "0  12/19/2022     Hotel 19  Atlanta           2    12/19     12/20        0   \n",
       "1  12/19/2022     Hotel 19  Atlanta           2    12/22     12/23        3   \n",
       "2  12/19/2022     Hotel 19  Atlanta           2    12/19     12/23        0   \n",
       "3  12/19/2022     Hotel 19  Atlanta           2    12/22     12/26        3   \n",
       "4  12/19/2022     Hotel 19  Atlanta           2    12/19     12/25        0   \n",
       "\n",
       "   los hopper_price competitor_1 competitor_2 competitor_3 competitor_4  \n",
       "0    1           73          118          101          118          118  \n",
       "1    1           85          120          113          120          132  \n",
       "2    4          418          477          439          477          515  \n",
       "3    4          466          531          501          531          588  \n",
       "4    6          618          717          665          717          780  "
      ]
     },
     "execution_count": 9,
     "metadata": {},
     "output_type": "execute_result"
    }
   ],
   "source": [
    "df.head(5)"
   ]
  },
  {
   "cell_type": "code",
   "execution_count": 12,
   "metadata": {},
   "outputs": [],
   "source": [
    "df = df.replace({'Sold Out': 0, 'Sold out': 0})\n",
    "df['hopper_price'] = df['hopper_price'].astype(int)\n",
    "df[['competitor_1','competitor_2', 'competitor_3', 'competitor_4']] = \\\n",
    "df[['competitor_1','competitor_2', 'competitor_3', 'competitor_4']].astype(int)\n",
    "df['lowest_competitor_price'] = df[['competitor_1','competitor_2', 'competitor_3', 'competitor_4']].min(axis=1)\n",
    "df['highest_competitor_price'] = df[['competitor_1','competitor_2', 'competitor_3', 'competitor_4']].max(axis=1)\n",
    "df['lowest_delta_competitor_price'] =  df['lowest_competitor_price'] - df['hopper_price']\n",
    "df['highest_delta_competitor_price'] = df['highest_competitor_price'] - df['hopper_price']"
   ]
  },
  {
   "cell_type": "code",
   "execution_count": 13,
   "metadata": {},
   "outputs": [
    {
     "data": {
      "text/html": [
       "<div>\n",
       "<style scoped>\n",
       "    .dataframe tbody tr th:only-of-type {\n",
       "        vertical-align: middle;\n",
       "    }\n",
       "\n",
       "    .dataframe tbody tr th {\n",
       "        vertical-align: top;\n",
       "    }\n",
       "\n",
       "    .dataframe thead th {\n",
       "        text-align: right;\n",
       "    }\n",
       "</style>\n",
       "<table border=\"1\" class=\"dataframe\">\n",
       "  <thead>\n",
       "    <tr style=\"text-align: right;\">\n",
       "      <th></th>\n",
       "      <th>shop_date</th>\n",
       "      <th>lodging_name</th>\n",
       "      <th>market</th>\n",
       "      <th>num_guests</th>\n",
       "      <th>check_in</th>\n",
       "      <th>check_out</th>\n",
       "      <th>advance</th>\n",
       "      <th>los</th>\n",
       "      <th>hopper_price</th>\n",
       "      <th>competitor_1</th>\n",
       "      <th>competitor_2</th>\n",
       "      <th>competitor_3</th>\n",
       "      <th>competitor_4</th>\n",
       "      <th>lowest_competitor_price</th>\n",
       "      <th>highest_competitor_price</th>\n",
       "      <th>highest_delta_competitor_price</th>\n",
       "      <th>lowest_delta_competitor_price</th>\n",
       "    </tr>\n",
       "  </thead>\n",
       "  <tbody>\n",
       "    <tr>\n",
       "      <th>0</th>\n",
       "      <td>12/19/2022</td>\n",
       "      <td>Hotel 19</td>\n",
       "      <td>Atlanta</td>\n",
       "      <td>2</td>\n",
       "      <td>12/19</td>\n",
       "      <td>12/20</td>\n",
       "      <td>0</td>\n",
       "      <td>1</td>\n",
       "      <td>73</td>\n",
       "      <td>118</td>\n",
       "      <td>101</td>\n",
       "      <td>118</td>\n",
       "      <td>118</td>\n",
       "      <td>101</td>\n",
       "      <td>118</td>\n",
       "      <td>45</td>\n",
       "      <td>28</td>\n",
       "    </tr>\n",
       "    <tr>\n",
       "      <th>1</th>\n",
       "      <td>12/19/2022</td>\n",
       "      <td>Hotel 19</td>\n",
       "      <td>Atlanta</td>\n",
       "      <td>2</td>\n",
       "      <td>12/22</td>\n",
       "      <td>12/23</td>\n",
       "      <td>3</td>\n",
       "      <td>1</td>\n",
       "      <td>85</td>\n",
       "      <td>120</td>\n",
       "      <td>113</td>\n",
       "      <td>120</td>\n",
       "      <td>132</td>\n",
       "      <td>113</td>\n",
       "      <td>132</td>\n",
       "      <td>47</td>\n",
       "      <td>28</td>\n",
       "    </tr>\n",
       "    <tr>\n",
       "      <th>2</th>\n",
       "      <td>12/19/2022</td>\n",
       "      <td>Hotel 19</td>\n",
       "      <td>Atlanta</td>\n",
       "      <td>2</td>\n",
       "      <td>12/19</td>\n",
       "      <td>12/23</td>\n",
       "      <td>0</td>\n",
       "      <td>4</td>\n",
       "      <td>418</td>\n",
       "      <td>477</td>\n",
       "      <td>439</td>\n",
       "      <td>477</td>\n",
       "      <td>515</td>\n",
       "      <td>439</td>\n",
       "      <td>515</td>\n",
       "      <td>97</td>\n",
       "      <td>21</td>\n",
       "    </tr>\n",
       "    <tr>\n",
       "      <th>3</th>\n",
       "      <td>12/19/2022</td>\n",
       "      <td>Hotel 19</td>\n",
       "      <td>Atlanta</td>\n",
       "      <td>2</td>\n",
       "      <td>12/22</td>\n",
       "      <td>12/26</td>\n",
       "      <td>3</td>\n",
       "      <td>4</td>\n",
       "      <td>466</td>\n",
       "      <td>531</td>\n",
       "      <td>501</td>\n",
       "      <td>531</td>\n",
       "      <td>588</td>\n",
       "      <td>501</td>\n",
       "      <td>588</td>\n",
       "      <td>122</td>\n",
       "      <td>35</td>\n",
       "    </tr>\n",
       "    <tr>\n",
       "      <th>4</th>\n",
       "      <td>12/19/2022</td>\n",
       "      <td>Hotel 19</td>\n",
       "      <td>Atlanta</td>\n",
       "      <td>2</td>\n",
       "      <td>12/19</td>\n",
       "      <td>12/25</td>\n",
       "      <td>0</td>\n",
       "      <td>6</td>\n",
       "      <td>618</td>\n",
       "      <td>717</td>\n",
       "      <td>665</td>\n",
       "      <td>717</td>\n",
       "      <td>780</td>\n",
       "      <td>665</td>\n",
       "      <td>780</td>\n",
       "      <td>162</td>\n",
       "      <td>47</td>\n",
       "    </tr>\n",
       "  </tbody>\n",
       "</table>\n",
       "</div>"
      ],
      "text/plain": [
       "    shop_date lodging_name   market  num_guests check_in check_out  advance  \\\n",
       "0  12/19/2022     Hotel 19  Atlanta           2    12/19     12/20        0   \n",
       "1  12/19/2022     Hotel 19  Atlanta           2    12/22     12/23        3   \n",
       "2  12/19/2022     Hotel 19  Atlanta           2    12/19     12/23        0   \n",
       "3  12/19/2022     Hotel 19  Atlanta           2    12/22     12/26        3   \n",
       "4  12/19/2022     Hotel 19  Atlanta           2    12/19     12/25        0   \n",
       "\n",
       "   los  hopper_price  competitor_1  competitor_2  competitor_3  competitor_4  \\\n",
       "0    1            73           118           101           118           118   \n",
       "1    1            85           120           113           120           132   \n",
       "2    4           418           477           439           477           515   \n",
       "3    4           466           531           501           531           588   \n",
       "4    6           618           717           665           717           780   \n",
       "\n",
       "   lowest_competitor_price  highest_competitor_price  \\\n",
       "0                      101                       118   \n",
       "1                      113                       132   \n",
       "2                      439                       515   \n",
       "3                      501                       588   \n",
       "4                      665                       780   \n",
       "\n",
       "   highest_delta_competitor_price  lowest_delta_competitor_price  \n",
       "0                              45                             28  \n",
       "1                              47                             28  \n",
       "2                              97                             21  \n",
       "3                             122                             35  \n",
       "4                             162                             47  "
      ]
     },
     "execution_count": 13,
     "metadata": {},
     "output_type": "execute_result"
    }
   ],
   "source": [
    "df.head(5)"
   ]
  },
  {
   "cell_type": "code",
   "execution_count": 27,
   "metadata": {},
   "outputs": [
    {
     "data": {
      "text/plain": [
       "array(['Atlanta', 'Austin', 'Boston', 'Cancun', 'Charlotte', 'Chicago',\n",
       "       'Dallas', 'Denver', 'Fort Lauderdale', 'Honolulu', 'Houston',\n",
       "       'Las Vegas', 'Los Angeles', 'Miami', 'Nashville', 'New Orleans',\n",
       "       'New York', 'Orlando', 'Phoenix', 'Portland', 'San Francisco',\n",
       "       'Seattle', 'Tampa', 'Temecula', 'Washington'], dtype=object)"
      ]
     },
     "execution_count": 27,
     "metadata": {},
     "output_type": "execute_result"
    }
   ],
   "source": [
    "df['market'].unique()"
   ]
  },
  {
   "cell_type": "code",
   "execution_count": 28,
   "metadata": {
    "scrolled": true
   },
   "outputs": [
    {
     "data": {
      "text/plain": [
       "25"
      ]
     },
     "execution_count": 28,
     "metadata": {},
     "output_type": "execute_result"
    }
   ],
   "source": [
    "len(df['market'].unique())"
   ]
  },
  {
   "cell_type": "code",
   "execution_count": 17,
   "metadata": {},
   "outputs": [
    {
     "data": {
      "text/html": [
       "<div>\n",
       "<style scoped>\n",
       "    .dataframe tbody tr th:only-of-type {\n",
       "        vertical-align: middle;\n",
       "    }\n",
       "\n",
       "    .dataframe tbody tr th {\n",
       "        vertical-align: top;\n",
       "    }\n",
       "\n",
       "    .dataframe thead th {\n",
       "        text-align: right;\n",
       "    }\n",
       "</style>\n",
       "<table border=\"1\" class=\"dataframe\">\n",
       "  <thead>\n",
       "    <tr style=\"text-align: right;\">\n",
       "      <th></th>\n",
       "      <th>los</th>\n",
       "      <th>lowest_delta_competitor_price</th>\n",
       "    </tr>\n",
       "  </thead>\n",
       "  <tbody>\n",
       "    <tr>\n",
       "      <th>0</th>\n",
       "      <td>1</td>\n",
       "      <td>5.686064</td>\n",
       "    </tr>\n",
       "    <tr>\n",
       "      <th>1</th>\n",
       "      <td>4</td>\n",
       "      <td>-36.340512</td>\n",
       "    </tr>\n",
       "    <tr>\n",
       "      <th>2</th>\n",
       "      <td>6</td>\n",
       "      <td>-80.832652</td>\n",
       "    </tr>\n",
       "  </tbody>\n",
       "</table>\n",
       "</div>"
      ],
      "text/plain": [
       "   los  lowest_delta_competitor_price\n",
       "0    1                       5.686064\n",
       "1    4                     -36.340512\n",
       "2    6                     -80.832652"
      ]
     },
     "execution_count": 17,
     "metadata": {},
     "output_type": "execute_result"
    }
   ],
   "source": [
    "df.groupby(['los'])[['lowest_delta_competitor_price']].mean().reset_index().head(75)"
   ]
  },
  {
   "cell_type": "code",
   "execution_count": null,
   "metadata": {},
   "outputs": [],
   "source": []
  },
  {
   "cell_type": "code",
   "execution_count": null,
   "metadata": {},
   "outputs": [],
   "source": []
  },
  {
   "cell_type": "code",
   "execution_count": null,
   "metadata": {},
   "outputs": [],
   "source": []
  },
  {
   "cell_type": "code",
   "execution_count": null,
   "metadata": {},
   "outputs": [],
   "source": []
  },
  {
   "cell_type": "code",
   "execution_count": null,
   "metadata": {},
   "outputs": [],
   "source": []
  },
  {
   "cell_type": "code",
   "execution_count": null,
   "metadata": {},
   "outputs": [],
   "source": []
  }
 ],
 "metadata": {
  "kernelspec": {
   "display_name": "Python 3",
   "language": "python",
   "name": "python3"
  },
  "language_info": {
   "codemirror_mode": {
    "name": "ipython",
    "version": 3
   },
   "file_extension": ".py",
   "mimetype": "text/x-python",
   "name": "python",
   "nbconvert_exporter": "python",
   "pygments_lexer": "ipython3",
   "version": "3.7.6"
  }
 },
 "nbformat": 4,
 "nbformat_minor": 4
}
