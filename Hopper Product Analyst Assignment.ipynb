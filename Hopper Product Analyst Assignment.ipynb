{
 "cells": [
  {
   "cell_type": "code",
   "execution_count": 1,
   "metadata": {},
   "outputs": [],
   "source": [
    "import pandas as pd\n",
    "import numpy as np\n",
    "import matplotlib.pyplot as plt"
   ]
  },
  {
   "cell_type": "code",
   "execution_count": 2,
   "metadata": {},
   "outputs": [],
   "source": [
    "df = pd.read_csv('productanalyst_assignmentdata.csv')"
   ]
  },
  {
   "cell_type": "code",
   "execution_count": 3,
   "metadata": {},
   "outputs": [
    {
     "data": {
      "text/plain": [
       "shop_date       object\n",
       "lodging_name    object\n",
       "market          object\n",
       "num_guests       int64\n",
       "check_in        object\n",
       "check_out       object\n",
       "advance          int64\n",
       "los              int64\n",
       "hopper_price    object\n",
       "competitor_1    object\n",
       "competitor_2    object\n",
       "competitor_3    object\n",
       "competitor_4    object\n",
       "dtype: object"
      ]
     },
     "execution_count": 3,
     "metadata": {},
     "output_type": "execute_result"
    }
   ],
   "source": [
    "df.dtypes"
   ]
  },
  {
   "cell_type": "code",
   "execution_count": 4,
   "metadata": {
    "scrolled": false
   },
   "outputs": [
    {
     "data": {
      "text/html": [
       "<div>\n",
       "<style scoped>\n",
       "    .dataframe tbody tr th:only-of-type {\n",
       "        vertical-align: middle;\n",
       "    }\n",
       "\n",
       "    .dataframe tbody tr th {\n",
       "        vertical-align: top;\n",
       "    }\n",
       "\n",
       "    .dataframe thead th {\n",
       "        text-align: right;\n",
       "    }\n",
       "</style>\n",
       "<table border=\"1\" class=\"dataframe\">\n",
       "  <thead>\n",
       "    <tr style=\"text-align: right;\">\n",
       "      <th></th>\n",
       "      <th>shop_date</th>\n",
       "      <th>lodging_name</th>\n",
       "      <th>market</th>\n",
       "      <th>num_guests</th>\n",
       "      <th>check_in</th>\n",
       "      <th>check_out</th>\n",
       "      <th>advance</th>\n",
       "      <th>los</th>\n",
       "      <th>hopper_price</th>\n",
       "      <th>competitor_1</th>\n",
       "      <th>competitor_2</th>\n",
       "      <th>competitor_3</th>\n",
       "      <th>competitor_4</th>\n",
       "    </tr>\n",
       "  </thead>\n",
       "  <tbody>\n",
       "    <tr>\n",
       "      <th>0</th>\n",
       "      <td>12/19/2022</td>\n",
       "      <td>Hotel 19</td>\n",
       "      <td>Atlanta</td>\n",
       "      <td>2</td>\n",
       "      <td>12/19</td>\n",
       "      <td>12/20</td>\n",
       "      <td>0</td>\n",
       "      <td>1</td>\n",
       "      <td>73</td>\n",
       "      <td>118</td>\n",
       "      <td>101</td>\n",
       "      <td>118</td>\n",
       "      <td>118</td>\n",
       "    </tr>\n",
       "    <tr>\n",
       "      <th>1</th>\n",
       "      <td>12/19/2022</td>\n",
       "      <td>Hotel 19</td>\n",
       "      <td>Atlanta</td>\n",
       "      <td>2</td>\n",
       "      <td>12/22</td>\n",
       "      <td>12/23</td>\n",
       "      <td>3</td>\n",
       "      <td>1</td>\n",
       "      <td>85</td>\n",
       "      <td>120</td>\n",
       "      <td>113</td>\n",
       "      <td>120</td>\n",
       "      <td>132</td>\n",
       "    </tr>\n",
       "    <tr>\n",
       "      <th>2</th>\n",
       "      <td>12/19/2022</td>\n",
       "      <td>Hotel 19</td>\n",
       "      <td>Atlanta</td>\n",
       "      <td>2</td>\n",
       "      <td>12/19</td>\n",
       "      <td>12/23</td>\n",
       "      <td>0</td>\n",
       "      <td>4</td>\n",
       "      <td>418</td>\n",
       "      <td>477</td>\n",
       "      <td>439</td>\n",
       "      <td>477</td>\n",
       "      <td>515</td>\n",
       "    </tr>\n",
       "    <tr>\n",
       "      <th>3</th>\n",
       "      <td>12/19/2022</td>\n",
       "      <td>Hotel 19</td>\n",
       "      <td>Atlanta</td>\n",
       "      <td>2</td>\n",
       "      <td>12/22</td>\n",
       "      <td>12/26</td>\n",
       "      <td>3</td>\n",
       "      <td>4</td>\n",
       "      <td>466</td>\n",
       "      <td>531</td>\n",
       "      <td>501</td>\n",
       "      <td>531</td>\n",
       "      <td>588</td>\n",
       "    </tr>\n",
       "    <tr>\n",
       "      <th>4</th>\n",
       "      <td>12/19/2022</td>\n",
       "      <td>Hotel 19</td>\n",
       "      <td>Atlanta</td>\n",
       "      <td>2</td>\n",
       "      <td>12/19</td>\n",
       "      <td>12/25</td>\n",
       "      <td>0</td>\n",
       "      <td>6</td>\n",
       "      <td>618</td>\n",
       "      <td>717</td>\n",
       "      <td>665</td>\n",
       "      <td>717</td>\n",
       "      <td>780</td>\n",
       "    </tr>\n",
       "  </tbody>\n",
       "</table>\n",
       "</div>"
      ],
      "text/plain": [
       "    shop_date lodging_name   market  num_guests check_in check_out  advance  \\\n",
       "0  12/19/2022     Hotel 19  Atlanta           2    12/19     12/20        0   \n",
       "1  12/19/2022     Hotel 19  Atlanta           2    12/22     12/23        3   \n",
       "2  12/19/2022     Hotel 19  Atlanta           2    12/19     12/23        0   \n",
       "3  12/19/2022     Hotel 19  Atlanta           2    12/22     12/26        3   \n",
       "4  12/19/2022     Hotel 19  Atlanta           2    12/19     12/25        0   \n",
       "\n",
       "   los hopper_price competitor_1 competitor_2 competitor_3 competitor_4  \n",
       "0    1           73          118          101          118          118  \n",
       "1    1           85          120          113          120          132  \n",
       "2    4          418          477          439          477          515  \n",
       "3    4          466          531          501          531          588  \n",
       "4    6          618          717          665          717          780  "
      ]
     },
     "execution_count": 4,
     "metadata": {},
     "output_type": "execute_result"
    }
   ],
   "source": [
    "df.head(5)"
   ]
  },
  {
   "cell_type": "code",
   "execution_count": 5,
   "metadata": {},
   "outputs": [],
   "source": [
    "df = df.replace({'Sold Out': 0, 'Sold out': 0})\n",
    "df['hopper_price'] = df['hopper_price'].astype(int)\n",
    "df[['competitor_1','competitor_2', 'competitor_3', 'competitor_4']] = \\\n",
    "df[['competitor_1','competitor_2', 'competitor_3', 'competitor_4']].astype(int)\n",
    "df['lowest_competitor_price'] = df[['competitor_1','competitor_2', 'competitor_3', 'competitor_4']].min(axis=1)\n",
    "df['highest_competitor_price'] = df[['competitor_1','competitor_2', 'competitor_3', 'competitor_4']].max(axis=1)\n",
    "df['competitive_margin'] =  df['lowest_competitor_price'] - df['hopper_price']"
   ]
  },
  {
   "cell_type": "code",
   "execution_count": 6,
   "metadata": {},
   "outputs": [
    {
     "data": {
      "text/html": [
       "<div>\n",
       "<style scoped>\n",
       "    .dataframe tbody tr th:only-of-type {\n",
       "        vertical-align: middle;\n",
       "    }\n",
       "\n",
       "    .dataframe tbody tr th {\n",
       "        vertical-align: top;\n",
       "    }\n",
       "\n",
       "    .dataframe thead th {\n",
       "        text-align: right;\n",
       "    }\n",
       "</style>\n",
       "<table border=\"1\" class=\"dataframe\">\n",
       "  <thead>\n",
       "    <tr style=\"text-align: right;\">\n",
       "      <th></th>\n",
       "      <th>shop_date</th>\n",
       "      <th>lodging_name</th>\n",
       "      <th>market</th>\n",
       "      <th>num_guests</th>\n",
       "      <th>check_in</th>\n",
       "      <th>check_out</th>\n",
       "      <th>advance</th>\n",
       "      <th>los</th>\n",
       "      <th>hopper_price</th>\n",
       "      <th>competitor_1</th>\n",
       "      <th>competitor_2</th>\n",
       "      <th>competitor_3</th>\n",
       "      <th>competitor_4</th>\n",
       "      <th>lowest_competitor_price</th>\n",
       "      <th>highest_competitor_price</th>\n",
       "      <th>competitive_margin</th>\n",
       "    </tr>\n",
       "  </thead>\n",
       "  <tbody>\n",
       "    <tr>\n",
       "      <th>0</th>\n",
       "      <td>12/19/2022</td>\n",
       "      <td>Hotel 19</td>\n",
       "      <td>Atlanta</td>\n",
       "      <td>2</td>\n",
       "      <td>12/19</td>\n",
       "      <td>12/20</td>\n",
       "      <td>0</td>\n",
       "      <td>1</td>\n",
       "      <td>73</td>\n",
       "      <td>118</td>\n",
       "      <td>101</td>\n",
       "      <td>118</td>\n",
       "      <td>118</td>\n",
       "      <td>101</td>\n",
       "      <td>118</td>\n",
       "      <td>28</td>\n",
       "    </tr>\n",
       "    <tr>\n",
       "      <th>1</th>\n",
       "      <td>12/19/2022</td>\n",
       "      <td>Hotel 19</td>\n",
       "      <td>Atlanta</td>\n",
       "      <td>2</td>\n",
       "      <td>12/22</td>\n",
       "      <td>12/23</td>\n",
       "      <td>3</td>\n",
       "      <td>1</td>\n",
       "      <td>85</td>\n",
       "      <td>120</td>\n",
       "      <td>113</td>\n",
       "      <td>120</td>\n",
       "      <td>132</td>\n",
       "      <td>113</td>\n",
       "      <td>132</td>\n",
       "      <td>28</td>\n",
       "    </tr>\n",
       "    <tr>\n",
       "      <th>2</th>\n",
       "      <td>12/19/2022</td>\n",
       "      <td>Hotel 19</td>\n",
       "      <td>Atlanta</td>\n",
       "      <td>2</td>\n",
       "      <td>12/19</td>\n",
       "      <td>12/23</td>\n",
       "      <td>0</td>\n",
       "      <td>4</td>\n",
       "      <td>418</td>\n",
       "      <td>477</td>\n",
       "      <td>439</td>\n",
       "      <td>477</td>\n",
       "      <td>515</td>\n",
       "      <td>439</td>\n",
       "      <td>515</td>\n",
       "      <td>21</td>\n",
       "    </tr>\n",
       "    <tr>\n",
       "      <th>3</th>\n",
       "      <td>12/19/2022</td>\n",
       "      <td>Hotel 19</td>\n",
       "      <td>Atlanta</td>\n",
       "      <td>2</td>\n",
       "      <td>12/22</td>\n",
       "      <td>12/26</td>\n",
       "      <td>3</td>\n",
       "      <td>4</td>\n",
       "      <td>466</td>\n",
       "      <td>531</td>\n",
       "      <td>501</td>\n",
       "      <td>531</td>\n",
       "      <td>588</td>\n",
       "      <td>501</td>\n",
       "      <td>588</td>\n",
       "      <td>35</td>\n",
       "    </tr>\n",
       "    <tr>\n",
       "      <th>4</th>\n",
       "      <td>12/19/2022</td>\n",
       "      <td>Hotel 19</td>\n",
       "      <td>Atlanta</td>\n",
       "      <td>2</td>\n",
       "      <td>12/19</td>\n",
       "      <td>12/25</td>\n",
       "      <td>0</td>\n",
       "      <td>6</td>\n",
       "      <td>618</td>\n",
       "      <td>717</td>\n",
       "      <td>665</td>\n",
       "      <td>717</td>\n",
       "      <td>780</td>\n",
       "      <td>665</td>\n",
       "      <td>780</td>\n",
       "      <td>47</td>\n",
       "    </tr>\n",
       "  </tbody>\n",
       "</table>\n",
       "</div>"
      ],
      "text/plain": [
       "    shop_date lodging_name   market  num_guests check_in check_out  advance  \\\n",
       "0  12/19/2022     Hotel 19  Atlanta           2    12/19     12/20        0   \n",
       "1  12/19/2022     Hotel 19  Atlanta           2    12/22     12/23        3   \n",
       "2  12/19/2022     Hotel 19  Atlanta           2    12/19     12/23        0   \n",
       "3  12/19/2022     Hotel 19  Atlanta           2    12/22     12/26        3   \n",
       "4  12/19/2022     Hotel 19  Atlanta           2    12/19     12/25        0   \n",
       "\n",
       "   los  hopper_price  competitor_1  competitor_2  competitor_3  competitor_4  \\\n",
       "0    1            73           118           101           118           118   \n",
       "1    1            85           120           113           120           132   \n",
       "2    4           418           477           439           477           515   \n",
       "3    4           466           531           501           531           588   \n",
       "4    6           618           717           665           717           780   \n",
       "\n",
       "   lowest_competitor_price  highest_competitor_price  competitive_margin  \n",
       "0                      101                       118                  28  \n",
       "1                      113                       132                  28  \n",
       "2                      439                       515                  21  \n",
       "3                      501                       588                  35  \n",
       "4                      665                       780                  47  "
      ]
     },
     "execution_count": 6,
     "metadata": {},
     "output_type": "execute_result"
    }
   ],
   "source": [
    "df.head(5)"
   ]
  },
  {
   "cell_type": "code",
   "execution_count": 7,
   "metadata": {},
   "outputs": [
    {
     "data": {
      "text/plain": [
       "array(['Atlanta', 'Austin', 'Boston', 'Cancun', 'Charlotte', 'Chicago',\n",
       "       'Dallas', 'Denver', 'Fort Lauderdale', 'Honolulu', 'Houston',\n",
       "       'Las Vegas', 'Los Angeles', 'Miami', 'Nashville', 'New Orleans',\n",
       "       'New York', 'Orlando', 'Phoenix', 'Portland', 'San Francisco',\n",
       "       'Seattle', 'Tampa', 'Temecula', 'Washington'], dtype=object)"
      ]
     },
     "execution_count": 7,
     "metadata": {},
     "output_type": "execute_result"
    }
   ],
   "source": [
    "df['market'].unique()"
   ]
  },
  {
   "cell_type": "code",
   "execution_count": 8,
   "metadata": {
    "scrolled": true
   },
   "outputs": [
    {
     "data": {
      "text/plain": [
       "25"
      ]
     },
     "execution_count": 8,
     "metadata": {},
     "output_type": "execute_result"
    }
   ],
   "source": [
    "len(df['market'].unique())"
   ]
  },
  {
   "cell_type": "code",
   "execution_count": 9,
   "metadata": {},
   "outputs": [
    {
     "data": {
      "text/plain": [
       "array([0, 3], dtype=int64)"
      ]
     },
     "execution_count": 9,
     "metadata": {},
     "output_type": "execute_result"
    }
   ],
   "source": [
    "df['advance'].unique()"
   ]
  },
  {
   "cell_type": "code",
   "execution_count": 10,
   "metadata": {},
   "outputs": [
    {
     "data": {
      "text/plain": [
       "array([1, 4, 6], dtype=int64)"
      ]
     },
     "execution_count": 10,
     "metadata": {},
     "output_type": "execute_result"
    }
   ],
   "source": [
    "df['los'].unique()"
   ]
  },
  {
   "cell_type": "code",
   "execution_count": 43,
   "metadata": {},
   "outputs": [
    {
     "ename": "ValueError",
     "evalue": "Illegal argument(s) to subplot: (1, 2)",
     "output_type": "error",
     "traceback": [
      "\u001b[1;31m---------------------------------------------------------------------------\u001b[0m",
      "\u001b[1;31mValueError\u001b[0m                                Traceback (most recent call last)",
      "\u001b[1;32m<ipython-input-43-860f8e8f65de>\u001b[0m in \u001b[0;36m<module>\u001b[1;34m\u001b[0m\n\u001b[0;32m      5\u001b[0m \u001b[0mplt\u001b[0m\u001b[1;33m.\u001b[0m\u001b[0mlegend\u001b[0m\u001b[1;33m(\u001b[0m\u001b[0mloc\u001b[0m\u001b[1;33m=\u001b[0m\u001b[1;34m'upper right'\u001b[0m\u001b[1;33m)\u001b[0m\u001b[1;33m\u001b[0m\u001b[1;33m\u001b[0m\u001b[0m\n\u001b[0;32m      6\u001b[0m \u001b[0mplt\u001b[0m\u001b[1;33m.\u001b[0m\u001b[0mtitle\u001b[0m\u001b[1;33m(\u001b[0m\u001b[1;34m'All Markets'\u001b[0m\u001b[1;33m)\u001b[0m\u001b[1;33m\u001b[0m\u001b[1;33m\u001b[0m\u001b[0m\n\u001b[1;32m----> 7\u001b[1;33m \u001b[0mplt\u001b[0m\u001b[1;33m.\u001b[0m\u001b[0msubplot\u001b[0m\u001b[1;33m(\u001b[0m\u001b[1;36m1\u001b[0m\u001b[1;33m,\u001b[0m \u001b[1;36m2\u001b[0m\u001b[1;33m)\u001b[0m\u001b[1;33m\u001b[0m\u001b[1;33m\u001b[0m\u001b[0m\n\u001b[0m\u001b[0;32m      8\u001b[0m \u001b[0mplt\u001b[0m\u001b[1;33m.\u001b[0m\u001b[0mshow\u001b[0m\u001b[1;33m(\u001b[0m\u001b[1;33m)\u001b[0m\u001b[1;33m\u001b[0m\u001b[1;33m\u001b[0m\u001b[0m\n",
      "\u001b[1;32m~\\anaconda3\\lib\\site-packages\\matplotlib\\pyplot.py\u001b[0m in \u001b[0;36msubplot\u001b[1;34m(*args, **kwargs)\u001b[0m\n\u001b[0;32m   1074\u001b[0m \u001b[1;33m\u001b[0m\u001b[0m\n\u001b[0;32m   1075\u001b[0m     \u001b[0mfig\u001b[0m \u001b[1;33m=\u001b[0m \u001b[0mgcf\u001b[0m\u001b[1;33m(\u001b[0m\u001b[1;33m)\u001b[0m\u001b[1;33m\u001b[0m\u001b[1;33m\u001b[0m\u001b[0m\n\u001b[1;32m-> 1076\u001b[1;33m     \u001b[0ma\u001b[0m \u001b[1;33m=\u001b[0m \u001b[0mfig\u001b[0m\u001b[1;33m.\u001b[0m\u001b[0madd_subplot\u001b[0m\u001b[1;33m(\u001b[0m\u001b[1;33m*\u001b[0m\u001b[0margs\u001b[0m\u001b[1;33m,\u001b[0m \u001b[1;33m**\u001b[0m\u001b[0mkwargs\u001b[0m\u001b[1;33m)\u001b[0m\u001b[1;33m\u001b[0m\u001b[1;33m\u001b[0m\u001b[0m\n\u001b[0m\u001b[0;32m   1077\u001b[0m     \u001b[0mbbox\u001b[0m \u001b[1;33m=\u001b[0m \u001b[0ma\u001b[0m\u001b[1;33m.\u001b[0m\u001b[0mbbox\u001b[0m\u001b[1;33m\u001b[0m\u001b[1;33m\u001b[0m\u001b[0m\n\u001b[0;32m   1078\u001b[0m     \u001b[0mbyebye\u001b[0m \u001b[1;33m=\u001b[0m \u001b[1;33m[\u001b[0m\u001b[1;33m]\u001b[0m\u001b[1;33m\u001b[0m\u001b[1;33m\u001b[0m\u001b[0m\n",
      "\u001b[1;32m~\\anaconda3\\lib\\site-packages\\matplotlib\\figure.py\u001b[0m in \u001b[0;36madd_subplot\u001b[1;34m(self, *args, **kwargs)\u001b[0m\n\u001b[0;32m   1412\u001b[0m                     \u001b[0mself\u001b[0m\u001b[1;33m.\u001b[0m\u001b[0m_axstack\u001b[0m\u001b[1;33m.\u001b[0m\u001b[0mremove\u001b[0m\u001b[1;33m(\u001b[0m\u001b[0max\u001b[0m\u001b[1;33m)\u001b[0m\u001b[1;33m\u001b[0m\u001b[1;33m\u001b[0m\u001b[0m\n\u001b[0;32m   1413\u001b[0m \u001b[1;33m\u001b[0m\u001b[0m\n\u001b[1;32m-> 1414\u001b[1;33m             \u001b[0ma\u001b[0m \u001b[1;33m=\u001b[0m \u001b[0msubplot_class_factory\u001b[0m\u001b[1;33m(\u001b[0m\u001b[0mprojection_class\u001b[0m\u001b[1;33m)\u001b[0m\u001b[1;33m(\u001b[0m\u001b[0mself\u001b[0m\u001b[1;33m,\u001b[0m \u001b[1;33m*\u001b[0m\u001b[0margs\u001b[0m\u001b[1;33m,\u001b[0m \u001b[1;33m**\u001b[0m\u001b[0mkwargs\u001b[0m\u001b[1;33m)\u001b[0m\u001b[1;33m\u001b[0m\u001b[1;33m\u001b[0m\u001b[0m\n\u001b[0m\u001b[0;32m   1415\u001b[0m \u001b[1;33m\u001b[0m\u001b[0m\n\u001b[0;32m   1416\u001b[0m         \u001b[1;32mreturn\u001b[0m \u001b[0mself\u001b[0m\u001b[1;33m.\u001b[0m\u001b[0m_add_axes_internal\u001b[0m\u001b[1;33m(\u001b[0m\u001b[0mkey\u001b[0m\u001b[1;33m,\u001b[0m \u001b[0ma\u001b[0m\u001b[1;33m)\u001b[0m\u001b[1;33m\u001b[0m\u001b[1;33m\u001b[0m\u001b[0m\n",
      "\u001b[1;32m~\\anaconda3\\lib\\site-packages\\matplotlib\\axes\\_subplots.py\u001b[0m in \u001b[0;36m__init__\u001b[1;34m(self, fig, *args, **kwargs)\u001b[0m\n\u001b[0;32m     62\u001b[0m                 \u001b[1;31m# num - 1 for converting from MATLAB to python indexing\u001b[0m\u001b[1;33m\u001b[0m\u001b[1;33m\u001b[0m\u001b[1;33m\u001b[0m\u001b[0m\n\u001b[0;32m     63\u001b[0m         \u001b[1;32melse\u001b[0m\u001b[1;33m:\u001b[0m\u001b[1;33m\u001b[0m\u001b[1;33m\u001b[0m\u001b[0m\n\u001b[1;32m---> 64\u001b[1;33m             \u001b[1;32mraise\u001b[0m \u001b[0mValueError\u001b[0m\u001b[1;33m(\u001b[0m\u001b[1;34mf'Illegal argument(s) to subplot: {args}'\u001b[0m\u001b[1;33m)\u001b[0m\u001b[1;33m\u001b[0m\u001b[1;33m\u001b[0m\u001b[0m\n\u001b[0m\u001b[0;32m     65\u001b[0m \u001b[1;33m\u001b[0m\u001b[0m\n\u001b[0;32m     66\u001b[0m         \u001b[0mself\u001b[0m\u001b[1;33m.\u001b[0m\u001b[0mupdate_params\u001b[0m\u001b[1;33m(\u001b[0m\u001b[1;33m)\u001b[0m\u001b[1;33m\u001b[0m\u001b[1;33m\u001b[0m\u001b[0m\n",
      "\u001b[1;31mValueError\u001b[0m: Illegal argument(s) to subplot: (1, 2)"
     ]
    },
    {
     "data": {
      "image/png": "[encoded data removed]",
      "text/plain": [
       "<Figure size 432x288 with 1 Axes>"
      ]
     },
     "metadata": {
      "needs_background": "light"
     },
     "output_type": "display_data"
    }
   ],
   "source": [
    "same_day_advance = df[df['advance']==0]\n",
    "three_day_advance = df[df['advance']==3]\n",
    "fig, ax = plt.subplots(ncols=2, figsize=(10,4))\n",
    "plt.hist(same_day_advance['competitive_margin'], bins=50, range=(-500,500), alpha=0.5, label='Same Day Advance')\n",
    "plt.hist(three_day_advance['competitive_margin'], bins=50, range=(-500,500), alpha=0.5, label='Three Day Advance')\n",
    "plt.legend(loc='upper right')\n",
    "plt.title('All Markets')\n",
    "plt.subplot(1, 2)\n",
    "plt.show()"
   ]
  },
  {
   "cell_type": "code",
   "execution_count": 24,
   "metadata": {},
   "outputs": [
    {
     "data": {
      "text/plain": [
       "count    8080.000000\n",
       "mean      -37.114233\n",
       "std       339.813367\n",
       "min     -7877.000000\n",
       "25%       -16.000000\n",
       "50%        13.000000\n",
       "75%        42.000000\n",
       "max      2103.000000\n",
       "Name: competitive_margin, dtype: float64"
      ]
     },
     "execution_count": 24,
     "metadata": {},
     "output_type": "execute_result"
    }
   ],
   "source": [
    "market_count = df.groupby(['market'])[['competitive_margin']].count().reset_index()\n",
    "df.competitive_margin.describe()"
   ]
  },
  {
   "cell_type": "code",
   "execution_count": 30,
   "metadata": {},
   "outputs": [
    {
     "data": {
      "text/html": [
       "<div>\n",
       "<style scoped>\n",
       "    .dataframe tbody tr th:only-of-type {\n",
       "        vertical-align: middle;\n",
       "    }\n",
       "\n",
       "    .dataframe tbody tr th {\n",
       "        vertical-align: top;\n",
       "    }\n",
       "\n",
       "    .dataframe thead th {\n",
       "        text-align: right;\n",
       "    }\n",
       "</style>\n",
       "<table border=\"1\" class=\"dataframe\">\n",
       "  <thead>\n",
       "    <tr style=\"text-align: right;\">\n",
       "      <th></th>\n",
       "      <th>competitive_margin</th>\n",
       "    </tr>\n",
       "    <tr>\n",
       "      <th>market</th>\n",
       "      <th></th>\n",
       "    </tr>\n",
       "  </thead>\n",
       "  <tbody>\n",
       "    <tr>\n",
       "      <th>Atlanta</th>\n",
       "      <td>9</td>\n",
       "    </tr>\n",
       "    <tr>\n",
       "      <th>Austin</th>\n",
       "      <td>13</td>\n",
       "    </tr>\n",
       "    <tr>\n",
       "      <th>Cancun</th>\n",
       "      <td>14</td>\n",
       "    </tr>\n",
       "    <tr>\n",
       "      <th>Dallas</th>\n",
       "      <td>11</td>\n",
       "    </tr>\n",
       "    <tr>\n",
       "      <th>Fort Lauderdale</th>\n",
       "      <td>9</td>\n",
       "    </tr>\n",
       "    <tr>\n",
       "      <th>Honolulu</th>\n",
       "      <td>29</td>\n",
       "    </tr>\n",
       "    <tr>\n",
       "      <th>Houston</th>\n",
       "      <td>8</td>\n",
       "    </tr>\n",
       "    <tr>\n",
       "      <th>Las Vegas</th>\n",
       "      <td>16</td>\n",
       "    </tr>\n",
       "    <tr>\n",
       "      <th>Los Angeles</th>\n",
       "      <td>6</td>\n",
       "    </tr>\n",
       "    <tr>\n",
       "      <th>Miami</th>\n",
       "      <td>7</td>\n",
       "    </tr>\n",
       "    <tr>\n",
       "      <th>Nashville</th>\n",
       "      <td>3</td>\n",
       "    </tr>\n",
       "    <tr>\n",
       "      <th>New Orleans</th>\n",
       "      <td>4</td>\n",
       "    </tr>\n",
       "    <tr>\n",
       "      <th>New York</th>\n",
       "      <td>7</td>\n",
       "    </tr>\n",
       "    <tr>\n",
       "      <th>Orlando</th>\n",
       "      <td>9</td>\n",
       "    </tr>\n",
       "    <tr>\n",
       "      <th>Phoenix</th>\n",
       "      <td>4</td>\n",
       "    </tr>\n",
       "    <tr>\n",
       "      <th>San Francisco</th>\n",
       "      <td>6</td>\n",
       "    </tr>\n",
       "    <tr>\n",
       "      <th>Tampa</th>\n",
       "      <td>5</td>\n",
       "    </tr>\n",
       "    <tr>\n",
       "      <th>Temecula</th>\n",
       "      <td>3</td>\n",
       "    </tr>\n",
       "  </tbody>\n",
       "</table>\n",
       "</div>"
      ],
      "text/plain": [
       "                 competitive_margin\n",
       "market                             \n",
       "Atlanta                           9\n",
       "Austin                           13\n",
       "Cancun                           14\n",
       "Dallas                           11\n",
       "Fort Lauderdale                   9\n",
       "Honolulu                         29\n",
       "Houston                           8\n",
       "Las Vegas                        16\n",
       "Los Angeles                       6\n",
       "Miami                             7\n",
       "Nashville                         3\n",
       "New Orleans                       4\n",
       "New York                          7\n",
       "Orlando                           9\n",
       "Phoenix                           4\n",
       "San Francisco                     6\n",
       "Tampa                             5\n",
       "Temecula                          3"
      ]
     },
     "execution_count": 30,
     "metadata": {},
     "output_type": "execute_result"
    }
   ],
   "source": [
    "proposed_outliers = df.loc[(df['competitive_margin']<-1000) | (df['competitive_margin']>1000)]\n",
    "proposed_outliers.groupby(['market'])[['competitive_margin']].count()"
   ]
  },
  {
   "cell_type": "code",
   "execution_count": 35,
   "metadata": {},
   "outputs": [
    {
     "data": {
      "text/plain": [
       "count    8080.000000\n",
       "mean      -37.114233\n",
       "std       339.813367\n",
       "min     -7877.000000\n",
       "25%       -16.000000\n",
       "50%        13.000000\n",
       "75%        42.000000\n",
       "max      2103.000000\n",
       "Name: competitive_margin, dtype: float64"
      ]
     },
     "execution_count": 35,
     "metadata": {},
     "output_type": "execute_result"
    }
   ],
   "source": [
    "df['competitive_margin'].describe()"
   ]
  },
  {
   "cell_type": "code",
   "execution_count": null,
   "metadata": {},
   "outputs": [],
   "source": []
  },
  {
   "cell_type": "code",
   "execution_count": null,
   "metadata": {},
   "outputs": [],
   "source": []
  },
  {
   "cell_type": "code",
   "execution_count": null,
   "metadata": {},
   "outputs": [],
   "source": []
  },
  {
   "cell_type": "code",
   "execution_count": null,
   "metadata": {},
   "outputs": [],
   "source": []
  }
 ],
 "metadata": {
  "kernelspec": {
   "display_name": "Python 3",
   "language": "python",
   "name": "python3"
  },
  "language_info": {
   "codemirror_mode": {
    "name": "ipython",
    "version": 3
   },
   "file_extension": ".py",
   "mimetype": "text/x-python",
   "name": "python",
   "nbconvert_exporter": "python",
   "pygments_lexer": "ipython3",
   "version": "3.7.6"
  }
 },
 "nbformat": 4,
 "nbformat_minor": 4
}
