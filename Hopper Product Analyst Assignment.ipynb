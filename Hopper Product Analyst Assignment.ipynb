{
 "cells": [
  {
   "cell_type": "markdown",
   "metadata": {},
   "source": [
    "# Hopper Product Analyst Assignment"
   ]
  },
  {
   "cell_type": "markdown",
   "metadata": {},
   "source": [
    "## by Boris Chu"
   ]
  },
  {
   "cell_type": "code",
   "execution_count": 1,
   "metadata": {},
   "outputs": [],
   "source": [
    "import pandas as pd\n",
    "import numpy as np\n",
    "import matplotlib.pyplot as plt"
   ]
  },
  {
   "cell_type": "code",
   "execution_count": 2,
   "metadata": {},
   "outputs": [],
   "source": [
    "df = pd.read_csv('productanalyst_assignmentdata.csv')"
   ]
  },
  {
   "cell_type": "code",
   "execution_count": 3,
   "metadata": {
    "scrolled": false
   },
   "outputs": [
    {
     "data": {
      "text/html": [
       "<div>\n",
       "<style scoped>\n",
       "    .dataframe tbody tr th:only-of-type {\n",
       "        vertical-align: middle;\n",
       "    }\n",
       "\n",
       "    .dataframe tbody tr th {\n",
       "        vertical-align: top;\n",
       "    }\n",
       "\n",
       "    .dataframe thead th {\n",
       "        text-align: right;\n",
       "    }\n",
       "</style>\n",
       "<table border=\"1\" class=\"dataframe\">\n",
       "  <thead>\n",
       "    <tr style=\"text-align: right;\">\n",
       "      <th></th>\n",
       "      <th>shop_date</th>\n",
       "      <th>lodging_name</th>\n",
       "      <th>market</th>\n",
       "      <th>num_guests</th>\n",
       "      <th>check_in</th>\n",
       "      <th>check_out</th>\n",
       "      <th>advance</th>\n",
       "      <th>los</th>\n",
       "      <th>hopper_price</th>\n",
       "      <th>competitor_1</th>\n",
       "      <th>competitor_2</th>\n",
       "      <th>competitor_3</th>\n",
       "      <th>competitor_4</th>\n",
       "    </tr>\n",
       "  </thead>\n",
       "  <tbody>\n",
       "    <tr>\n",
       "      <th>0</th>\n",
       "      <td>12/19/2022</td>\n",
       "      <td>Hotel 19</td>\n",
       "      <td>Atlanta</td>\n",
       "      <td>2</td>\n",
       "      <td>12/19</td>\n",
       "      <td>12/20</td>\n",
       "      <td>0</td>\n",
       "      <td>1</td>\n",
       "      <td>73</td>\n",
       "      <td>118</td>\n",
       "      <td>101</td>\n",
       "      <td>118</td>\n",
       "      <td>118</td>\n",
       "    </tr>\n",
       "    <tr>\n",
       "      <th>1</th>\n",
       "      <td>12/19/2022</td>\n",
       "      <td>Hotel 19</td>\n",
       "      <td>Atlanta</td>\n",
       "      <td>2</td>\n",
       "      <td>12/22</td>\n",
       "      <td>12/23</td>\n",
       "      <td>3</td>\n",
       "      <td>1</td>\n",
       "      <td>85</td>\n",
       "      <td>120</td>\n",
       "      <td>113</td>\n",
       "      <td>120</td>\n",
       "      <td>132</td>\n",
       "    </tr>\n",
       "    <tr>\n",
       "      <th>2</th>\n",
       "      <td>12/19/2022</td>\n",
       "      <td>Hotel 19</td>\n",
       "      <td>Atlanta</td>\n",
       "      <td>2</td>\n",
       "      <td>12/19</td>\n",
       "      <td>12/23</td>\n",
       "      <td>0</td>\n",
       "      <td>4</td>\n",
       "      <td>418</td>\n",
       "      <td>477</td>\n",
       "      <td>439</td>\n",
       "      <td>477</td>\n",
       "      <td>515</td>\n",
       "    </tr>\n",
       "    <tr>\n",
       "      <th>3</th>\n",
       "      <td>12/19/2022</td>\n",
       "      <td>Hotel 19</td>\n",
       "      <td>Atlanta</td>\n",
       "      <td>2</td>\n",
       "      <td>12/22</td>\n",
       "      <td>12/26</td>\n",
       "      <td>3</td>\n",
       "      <td>4</td>\n",
       "      <td>466</td>\n",
       "      <td>531</td>\n",
       "      <td>501</td>\n",
       "      <td>531</td>\n",
       "      <td>588</td>\n",
       "    </tr>\n",
       "    <tr>\n",
       "      <th>4</th>\n",
       "      <td>12/19/2022</td>\n",
       "      <td>Hotel 19</td>\n",
       "      <td>Atlanta</td>\n",
       "      <td>2</td>\n",
       "      <td>12/19</td>\n",
       "      <td>12/25</td>\n",
       "      <td>0</td>\n",
       "      <td>6</td>\n",
       "      <td>618</td>\n",
       "      <td>717</td>\n",
       "      <td>665</td>\n",
       "      <td>717</td>\n",
       "      <td>780</td>\n",
       "    </tr>\n",
       "  </tbody>\n",
       "</table>\n",
       "</div>"
      ],
      "text/plain": [
       "    shop_date lodging_name   market  num_guests check_in check_out  advance  \\\n",
       "0  12/19/2022     Hotel 19  Atlanta           2    12/19     12/20        0   \n",
       "1  12/19/2022     Hotel 19  Atlanta           2    12/22     12/23        3   \n",
       "2  12/19/2022     Hotel 19  Atlanta           2    12/19     12/23        0   \n",
       "3  12/19/2022     Hotel 19  Atlanta           2    12/22     12/26        3   \n",
       "4  12/19/2022     Hotel 19  Atlanta           2    12/19     12/25        0   \n",
       "\n",
       "   los hopper_price competitor_1 competitor_2 competitor_3 competitor_4  \n",
       "0    1           73          118          101          118          118  \n",
       "1    1           85          120          113          120          132  \n",
       "2    4          418          477          439          477          515  \n",
       "3    4          466          531          501          531          588  \n",
       "4    6          618          717          665          717          780  "
      ]
     },
     "execution_count": 3,
     "metadata": {},
     "output_type": "execute_result"
    }
   ],
   "source": [
    "df.head(5)"
   ]
  },
  {
   "cell_type": "code",
   "execution_count": 4,
   "metadata": {},
   "outputs": [],
   "source": [
    "df = df.replace({'Sold Out': 0, 'Sold out': 0})\n",
    "df['hopper_price'] = df['hopper_price'].astype(int)\n",
    "df['shop_date']= pd.to_datetime(df['shop_date'])\n",
    "df[['competitor_1','competitor_2', 'competitor_3', 'competitor_4']] = \\\n",
    "df[['competitor_1','competitor_2', 'competitor_3', 'competitor_4']].astype(int)\n",
    "df['lowest_competitor_price'] = df[['competitor_1','competitor_2', 'competitor_3', 'competitor_4']].min(axis=1)\n",
    "df['highest_competitor_price'] = df[['competitor_1','competitor_2', 'competitor_3', 'competitor_4']].max(axis=1)\n",
    "df['competitive_margin'] =  df['lowest_competitor_price'] - df['hopper_price']"
   ]
  },
  {
   "cell_type": "code",
   "execution_count": 5,
   "metadata": {},
   "outputs": [
    {
     "data": {
      "text/plain": [
       "shop_date                   datetime64[ns]\n",
       "lodging_name                        object\n",
       "market                              object\n",
       "num_guests                           int64\n",
       "check_in                            object\n",
       "check_out                           object\n",
       "advance                              int64\n",
       "los                                  int64\n",
       "hopper_price                         int32\n",
       "competitor_1                         int32\n",
       "competitor_2                         int32\n",
       "competitor_3                         int32\n",
       "competitor_4                         int32\n",
       "lowest_competitor_price              int32\n",
       "highest_competitor_price             int32\n",
       "competitive_margin                   int32\n",
       "dtype: object"
      ]
     },
     "execution_count": 5,
     "metadata": {},
     "output_type": "execute_result"
    }
   ],
   "source": [
    "df.dtypes"
   ]
  },
  {
   "cell_type": "code",
   "execution_count": 6,
   "metadata": {},
   "outputs": [
    {
     "data": {
      "text/html": [
       "<div>\n",
       "<style scoped>\n",
       "    .dataframe tbody tr th:only-of-type {\n",
       "        vertical-align: middle;\n",
       "    }\n",
       "\n",
       "    .dataframe tbody tr th {\n",
       "        vertical-align: top;\n",
       "    }\n",
       "\n",
       "    .dataframe thead th {\n",
       "        text-align: right;\n",
       "    }\n",
       "</style>\n",
       "<table border=\"1\" class=\"dataframe\">\n",
       "  <thead>\n",
       "    <tr style=\"text-align: right;\">\n",
       "      <th></th>\n",
       "      <th>shop_date</th>\n",
       "      <th>lodging_name</th>\n",
       "      <th>market</th>\n",
       "      <th>num_guests</th>\n",
       "      <th>check_in</th>\n",
       "      <th>check_out</th>\n",
       "      <th>advance</th>\n",
       "      <th>los</th>\n",
       "      <th>hopper_price</th>\n",
       "      <th>competitor_1</th>\n",
       "      <th>competitor_2</th>\n",
       "      <th>competitor_3</th>\n",
       "      <th>competitor_4</th>\n",
       "      <th>lowest_competitor_price</th>\n",
       "      <th>highest_competitor_price</th>\n",
       "      <th>competitive_margin</th>\n",
       "    </tr>\n",
       "  </thead>\n",
       "  <tbody>\n",
       "    <tr>\n",
       "      <th>0</th>\n",
       "      <td>2022-12-19</td>\n",
       "      <td>Hotel 19</td>\n",
       "      <td>Atlanta</td>\n",
       "      <td>2</td>\n",
       "      <td>12/19</td>\n",
       "      <td>12/20</td>\n",
       "      <td>0</td>\n",
       "      <td>1</td>\n",
       "      <td>73</td>\n",
       "      <td>118</td>\n",
       "      <td>101</td>\n",
       "      <td>118</td>\n",
       "      <td>118</td>\n",
       "      <td>101</td>\n",
       "      <td>118</td>\n",
       "      <td>28</td>\n",
       "    </tr>\n",
       "    <tr>\n",
       "      <th>1</th>\n",
       "      <td>2022-12-19</td>\n",
       "      <td>Hotel 19</td>\n",
       "      <td>Atlanta</td>\n",
       "      <td>2</td>\n",
       "      <td>12/22</td>\n",
       "      <td>12/23</td>\n",
       "      <td>3</td>\n",
       "      <td>1</td>\n",
       "      <td>85</td>\n",
       "      <td>120</td>\n",
       "      <td>113</td>\n",
       "      <td>120</td>\n",
       "      <td>132</td>\n",
       "      <td>113</td>\n",
       "      <td>132</td>\n",
       "      <td>28</td>\n",
       "    </tr>\n",
       "    <tr>\n",
       "      <th>2</th>\n",
       "      <td>2022-12-19</td>\n",
       "      <td>Hotel 19</td>\n",
       "      <td>Atlanta</td>\n",
       "      <td>2</td>\n",
       "      <td>12/19</td>\n",
       "      <td>12/23</td>\n",
       "      <td>0</td>\n",
       "      <td>4</td>\n",
       "      <td>418</td>\n",
       "      <td>477</td>\n",
       "      <td>439</td>\n",
       "      <td>477</td>\n",
       "      <td>515</td>\n",
       "      <td>439</td>\n",
       "      <td>515</td>\n",
       "      <td>21</td>\n",
       "    </tr>\n",
       "    <tr>\n",
       "      <th>3</th>\n",
       "      <td>2022-12-19</td>\n",
       "      <td>Hotel 19</td>\n",
       "      <td>Atlanta</td>\n",
       "      <td>2</td>\n",
       "      <td>12/22</td>\n",
       "      <td>12/26</td>\n",
       "      <td>3</td>\n",
       "      <td>4</td>\n",
       "      <td>466</td>\n",
       "      <td>531</td>\n",
       "      <td>501</td>\n",
       "      <td>531</td>\n",
       "      <td>588</td>\n",
       "      <td>501</td>\n",
       "      <td>588</td>\n",
       "      <td>35</td>\n",
       "    </tr>\n",
       "    <tr>\n",
       "      <th>4</th>\n",
       "      <td>2022-12-19</td>\n",
       "      <td>Hotel 19</td>\n",
       "      <td>Atlanta</td>\n",
       "      <td>2</td>\n",
       "      <td>12/19</td>\n",
       "      <td>12/25</td>\n",
       "      <td>0</td>\n",
       "      <td>6</td>\n",
       "      <td>618</td>\n",
       "      <td>717</td>\n",
       "      <td>665</td>\n",
       "      <td>717</td>\n",
       "      <td>780</td>\n",
       "      <td>665</td>\n",
       "      <td>780</td>\n",
       "      <td>47</td>\n",
       "    </tr>\n",
       "  </tbody>\n",
       "</table>\n",
       "</div>"
      ],
      "text/plain": [
       "   shop_date lodging_name   market  num_guests check_in check_out  advance  \\\n",
       "0 2022-12-19     Hotel 19  Atlanta           2    12/19     12/20        0   \n",
       "1 2022-12-19     Hotel 19  Atlanta           2    12/22     12/23        3   \n",
       "2 2022-12-19     Hotel 19  Atlanta           2    12/19     12/23        0   \n",
       "3 2022-12-19     Hotel 19  Atlanta           2    12/22     12/26        3   \n",
       "4 2022-12-19     Hotel 19  Atlanta           2    12/19     12/25        0   \n",
       "\n",
       "   los  hopper_price  competitor_1  competitor_2  competitor_3  competitor_4  \\\n",
       "0    1            73           118           101           118           118   \n",
       "1    1            85           120           113           120           132   \n",
       "2    4           418           477           439           477           515   \n",
       "3    4           466           531           501           531           588   \n",
       "4    6           618           717           665           717           780   \n",
       "\n",
       "   lowest_competitor_price  highest_competitor_price  competitive_margin  \n",
       "0                      101                       118                  28  \n",
       "1                      113                       132                  28  \n",
       "2                      439                       515                  21  \n",
       "3                      501                       588                  35  \n",
       "4                      665                       780                  47  "
      ]
     },
     "execution_count": 6,
     "metadata": {},
     "output_type": "execute_result"
    }
   ],
   "source": [
    "df.head(5)"
   ]
  },
  {
   "cell_type": "code",
   "execution_count": 7,
   "metadata": {},
   "outputs": [
    {
     "data": {
      "text/plain": [
       "array(['Atlanta', 'Austin', 'Boston', 'Cancun', 'Charlotte', 'Chicago',\n",
       "       'Dallas', 'Denver', 'Fort Lauderdale', 'Honolulu', 'Houston',\n",
       "       'Las Vegas', 'Los Angeles', 'Miami', 'Nashville', 'New Orleans',\n",
       "       'New York', 'Orlando', 'Phoenix', 'Portland', 'San Francisco',\n",
       "       'Seattle', 'Tampa', 'Temecula', 'Washington'], dtype=object)"
      ]
     },
     "execution_count": 7,
     "metadata": {},
     "output_type": "execute_result"
    }
   ],
   "source": [
    "df['market'].unique()"
   ]
  },
  {
   "cell_type": "code",
   "execution_count": 8,
   "metadata": {
    "scrolled": true
   },
   "outputs": [
    {
     "data": {
      "text/plain": [
       "25"
      ]
     },
     "execution_count": 8,
     "metadata": {},
     "output_type": "execute_result"
    }
   ],
   "source": [
    "len(df['market'].unique())"
   ]
  },
  {
   "cell_type": "code",
   "execution_count": 9,
   "metadata": {},
   "outputs": [
    {
     "data": {
      "text/plain": [
       "array([0, 3], dtype=int64)"
      ]
     },
     "execution_count": 9,
     "metadata": {},
     "output_type": "execute_result"
    }
   ],
   "source": [
    "df['advance'].unique()"
   ]
  },
  {
   "cell_type": "code",
   "execution_count": 10,
   "metadata": {},
   "outputs": [
    {
     "data": {
      "text/plain": [
       "array([1, 4, 6], dtype=int64)"
      ]
     },
     "execution_count": 10,
     "metadata": {},
     "output_type": "execute_result"
    }
   ],
   "source": [
    "df['los'].unique()"
   ]
  },
  {
   "cell_type": "code",
   "execution_count": 11,
   "metadata": {},
   "outputs": [
    {
     "data": {
      "text/plain": [
       "count    8080.000000\n",
       "mean      -37.114233\n",
       "std       339.813367\n",
       "min     -7877.000000\n",
       "25%       -16.000000\n",
       "50%        13.000000\n",
       "75%        42.000000\n",
       "max      2103.000000\n",
       "Name: competitive_margin, dtype: float64"
      ]
     },
     "execution_count": 11,
     "metadata": {},
     "output_type": "execute_result"
    }
   ],
   "source": [
    "df['competitive_margin'].describe()"
   ]
  },
  {
   "cell_type": "markdown",
   "metadata": {},
   "source": [
    "#### The mean of competitive margins is negative while the median is positive, creating a distribution that is skewed left (tail at the left)"
   ]
  },
  {
   "cell_type": "code",
   "execution_count": 12,
   "metadata": {},
   "outputs": [
    {
     "data": {
      "image/png": "[encoded data removed]",
      "text/plain": [
       "<Figure size 432x288 with 1 Axes>"
      ]
     },
     "metadata": {
      "needs_background": "light"
     },
     "output_type": "display_data"
    }
   ],
   "source": [
    "plt.hist(df['competitive_margin'], bins=100, range=(-2000,2000), color='#FA6866')\n",
    "plt.title('Overall Competitive Margin Distribution')\n",
    "plt.xlabel('Competitive Margin')\n",
    "plt.ylabel('Frequency')\n",
    "plt.show()"
   ]
  },
  {
   "cell_type": "code",
   "execution_count": 13,
   "metadata": {},
   "outputs": [
    {
     "data": {
      "text/plain": [
       "0.9611386138613861"
      ]
     },
     "execution_count": 13,
     "metadata": {},
     "output_type": "execute_result"
    }
   ],
   "source": [
    "in_range = df[(df['competitive_margin']>-500)&(df['competitive_margin']<500)]['competitive_margin'].count()\n",
    "total_count = df['competitive_margin'].count()\n",
    "in_range/total_count"
   ]
  },
  {
   "cell_type": "markdown",
   "metadata": {},
   "source": [
    "#### 96% of listings have a competitive margin between -500 and 500"
   ]
  },
  {
   "cell_type": "markdown",
   "metadata": {},
   "source": [
    "***"
   ]
  },
  {
   "cell_type": "code",
   "execution_count": 14,
   "metadata": {},
   "outputs": [
    {
     "data": {
      "image/png": "[encoded data removed]",
      "text/plain": [
       "<Figure size 432x288 with 1 Axes>"
      ]
     },
     "metadata": {
      "needs_background": "light"
     },
     "output_type": "display_data"
    }
   ],
   "source": [
    "same_day_advance = df[df['advance']==0]\n",
    "three_day_advance = df[df['advance']==3]\n",
    "plt.hist(same_day_advance['competitive_margin'], bins=100, range=(-500,500), color='#FA6866', alpha=0.5, label='Same Day')\n",
    "plt.hist(three_day_advance['competitive_margin'], bins=100, range=(-500,500), color='#01AAE4', alpha=0.5, label='Three Day')\n",
    "plt.legend(loc='upper right')\n",
    "plt.title('Advance Comparison')\n",
    "plt.xlabel('Competitive Margin')\n",
    "plt.ylabel('Frequency')\n",
    "plt.show()"
   ]
  },
  {
   "cell_type": "markdown",
   "metadata": {},
   "source": [
    "#### No big differences in distributions between same or 3 day advance "
   ]
  },
  {
   "cell_type": "code",
   "execution_count": 15,
   "metadata": {},
   "outputs": [
    {
     "data": {
      "image/png": "[encoded data removed]",
      "text/plain": [
       "<Figure size 432x288 with 1 Axes>"
      ]
     },
     "metadata": {
      "needs_background": "light"
     },
     "output_type": "display_data"
    }
   ],
   "source": [
    "one_los = df[df['los']==1]\n",
    "four_los = df[df['los']==4]\n",
    "six_los = df[df['los']==6]\n",
    "plt.hist(one_los['competitive_margin'], bins=100, range=(-500,500), color='#FA6866', alpha=0.5, label='1 Night')\n",
    "plt.hist(four_los['competitive_margin'], bins=100, range=(-500,500), color='#01AAE4', alpha=0.5, label='4 Nights')\n",
    "plt.hist(six_los['competitive_margin'], bins=100, range=(-500,500), color='#F0A02A', alpha=0.5, label='6 Nights')\n",
    "plt.legend(loc='upper right')\n",
    "plt.title('Length of Stay Comparison')\n",
    "plt.xlabel('Competitive Margin')\n",
    "plt.ylabel('Frequency')\n",
    "plt.show()"
   ]
  },
  {
   "cell_type": "markdown",
   "metadata": {},
   "source": [
    "#### Distribution wider as length of stay increases. The distribution also flattens which indicates increased variability in pricing. "
   ]
  },
  {
   "cell_type": "code",
   "execution_count": 16,
   "metadata": {},
   "outputs": [
    {
     "data": {
      "text/html": [
       "<div>\n",
       "<style scoped>\n",
       "    .dataframe tbody tr th:only-of-type {\n",
       "        vertical-align: middle;\n",
       "    }\n",
       "\n",
       "    .dataframe tbody tr th {\n",
       "        vertical-align: top;\n",
       "    }\n",
       "\n",
       "    .dataframe thead th {\n",
       "        text-align: right;\n",
       "    }\n",
       "</style>\n",
       "<table border=\"1\" class=\"dataframe\">\n",
       "  <thead>\n",
       "    <tr style=\"text-align: right;\">\n",
       "      <th></th>\n",
       "      <th>los</th>\n",
       "      <th>mean</th>\n",
       "      <th>median</th>\n",
       "      <th>std_dev</th>\n",
       "      <th>count</th>\n",
       "    </tr>\n",
       "  </thead>\n",
       "  <tbody>\n",
       "    <tr>\n",
       "      <th>0</th>\n",
       "      <td>1</td>\n",
       "      <td>5.7</td>\n",
       "      <td>17</td>\n",
       "      <td>65.6</td>\n",
       "      <td>2698</td>\n",
       "    </tr>\n",
       "    <tr>\n",
       "      <th>1</th>\n",
       "      <td>4</td>\n",
       "      <td>-36.3</td>\n",
       "      <td>11</td>\n",
       "      <td>317.7</td>\n",
       "      <td>2693</td>\n",
       "    </tr>\n",
       "    <tr>\n",
       "      <th>2</th>\n",
       "      <td>6</td>\n",
       "      <td>-80.8</td>\n",
       "      <td>1</td>\n",
       "      <td>487.7</td>\n",
       "      <td>2689</td>\n",
       "    </tr>\n",
       "  </tbody>\n",
       "</table>\n",
       "</div>"
      ],
      "text/plain": [
       "   los  mean  median  std_dev  count\n",
       "0    1   5.7      17     65.6   2698\n",
       "1    4 -36.3      11    317.7   2693\n",
       "2    6 -80.8       1    487.7   2689"
      ]
     },
     "execution_count": 16,
     "metadata": {},
     "output_type": "execute_result"
    }
   ],
   "source": [
    "market_summary = df.groupby(['los']).agg(\n",
    "    mean=('competitive_margin', np.mean),\n",
    "    median=('competitive_margin', np.median),\n",
    "    std_dev=('competitive_margin', np.std),\n",
    "    count=('competitive_margin', 'count')).reset_index().round(1)\n",
    "market_summary.sort_values(by=['los', 'std_dev']).reset_index(drop=True)"
   ]
  },
  {
   "cell_type": "markdown",
   "metadata": {},
   "source": [
    "#### Summary statistics show a flatter and more skewed distribution as LOS increases"
   ]
  },
  {
   "cell_type": "code",
   "execution_count": 17,
   "metadata": {},
   "outputs": [
    {
     "data": {
      "text/html": [
       "<div>\n",
       "<style scoped>\n",
       "    .dataframe tbody tr th:only-of-type {\n",
       "        vertical-align: middle;\n",
       "    }\n",
       "\n",
       "    .dataframe tbody tr th {\n",
       "        vertical-align: top;\n",
       "    }\n",
       "\n",
       "    .dataframe thead th {\n",
       "        text-align: right;\n",
       "    }\n",
       "</style>\n",
       "<table border=\"1\" class=\"dataframe\">\n",
       "  <thead>\n",
       "    <tr style=\"text-align: right;\">\n",
       "      <th></th>\n",
       "      <th>market</th>\n",
       "      <th>mean</th>\n",
       "      <th>median</th>\n",
       "      <th>count</th>\n",
       "    </tr>\n",
       "  </thead>\n",
       "  <tbody>\n",
       "    <tr>\n",
       "      <th>0</th>\n",
       "      <td>Austin</td>\n",
       "      <td>-102.5</td>\n",
       "      <td>-6.0</td>\n",
       "      <td>356</td>\n",
       "    </tr>\n",
       "    <tr>\n",
       "      <th>1</th>\n",
       "      <td>Honolulu</td>\n",
       "      <td>-187.8</td>\n",
       "      <td>-6.0</td>\n",
       "      <td>360</td>\n",
       "    </tr>\n",
       "    <tr>\n",
       "      <th>2</th>\n",
       "      <td>Cancun</td>\n",
       "      <td>-184.2</td>\n",
       "      <td>0.0</td>\n",
       "      <td>351</td>\n",
       "    </tr>\n",
       "    <tr>\n",
       "      <th>...</th>\n",
       "      <td>...</td>\n",
       "      <td>...</td>\n",
       "      <td>...</td>\n",
       "      <td>...</td>\n",
       "    </tr>\n",
       "    <tr>\n",
       "      <th>22</th>\n",
       "      <td>Fort Lauderdale</td>\n",
       "      <td>-59.1</td>\n",
       "      <td>24.0</td>\n",
       "      <td>359</td>\n",
       "    </tr>\n",
       "    <tr>\n",
       "      <th>23</th>\n",
       "      <td>Atlanta</td>\n",
       "      <td>-6.3</td>\n",
       "      <td>24.0</td>\n",
       "      <td>360</td>\n",
       "    </tr>\n",
       "    <tr>\n",
       "      <th>24</th>\n",
       "      <td>Chicago</td>\n",
       "      <td>40.2</td>\n",
       "      <td>25.5</td>\n",
       "      <td>360</td>\n",
       "    </tr>\n",
       "  </tbody>\n",
       "</table>\n",
       "<p>25 rows × 4 columns</p>\n",
       "</div>"
      ],
      "text/plain": [
       "             market   mean  median  count\n",
       "0            Austin -102.5    -6.0    356\n",
       "1          Honolulu -187.8    -6.0    360\n",
       "2            Cancun -184.2     0.0    351\n",
       "..              ...    ...     ...    ...\n",
       "22  Fort Lauderdale  -59.1    24.0    359\n",
       "23          Atlanta   -6.3    24.0    360\n",
       "24          Chicago   40.2    25.5    360\n",
       "\n",
       "[25 rows x 4 columns]"
      ]
     },
     "metadata": {},
     "output_type": "display_data"
    }
   ],
   "source": [
    "competitive_margin_df = df.groupby(['market']).agg(\n",
    "    mean=('competitive_margin', np.mean),\n",
    "    median=('competitive_margin', np.median),\n",
    "    count=('competitive_margin', 'count')).reset_index().round(1)\n",
    "competitive_margin_df = competitive_margin_df.sort_values(by=['median']).reset_index(drop=True)\n",
    "with pd.option_context('display.max_rows',6):\n",
    "    display(competitive_margin_df)"
   ]
  },
  {
   "cell_type": "markdown",
   "metadata": {},
   "source": [
    "#### Austin with the most negative median competitive margin while Chicago with the most positive median competitive margin"
   ]
  },
  {
   "cell_type": "code",
   "execution_count": 18,
   "metadata": {},
   "outputs": [
    {
     "data": {
      "image/png": "[encoded data removed]",
      "text/plain": [
       "<Figure size 432x288 with 1 Axes>"
      ]
     },
     "metadata": {
      "needs_background": "light"
     },
     "output_type": "display_data"
    }
   ],
   "source": [
    "austin_market = df[df['market']=='Austin']\n",
    "chicago_market = df[df['market']=='Chicago']\n",
    "plt.hist(austin_market['competitive_margin'], range=(-500,500), bins=100, color='#FA6866', alpha=0.5, label='Austin')\n",
    "plt.hist(chicago_market['competitive_margin'], range=(-500,500), bins=100, color='#01AAE4', alpha=0.5, label='Chicago')\n",
    "plt.legend(loc='upper right')\n",
    "plt.title('Chicago vs Austin Competitive Margin')\n",
    "plt.xlabel('Competitive Margin')\n",
    "plt.ylabel('Frequency')\n",
    "plt.show()"
   ]
  },
  {
   "cell_type": "markdown",
   "metadata": {},
   "source": [
    "#### Skewed left distribution for Austin, indicating more negative competitive margin room offerings"
   ]
  },
  {
   "cell_type": "code",
   "execution_count": 19,
   "metadata": {},
   "outputs": [
    {
     "data": {
      "image/png": "[encoded data removed]",
      "text/plain": [
       "<Figure size 432x288 with 1 Axes>"
      ]
     },
     "metadata": {
      "needs_background": "light"
     },
     "output_type": "display_data"
    }
   ],
   "source": [
    "austin_one_los = austin_market[austin_market['los']==1]\n",
    "austin_four_los = austin_market[austin_market['los']==4]\n",
    "austin_six_los = austin_market[austin_market['los']==6]\n",
    "plt.hist(austin_one_los['competitive_margin'], range=(-500,500), bins=100, color='#FA6866', alpha=0.5, label='1 Night')\n",
    "plt.hist(austin_four_los['competitive_margin'], range=(-500,500), bins=100, color='#01AAE4', alpha=0.5, label='4 Nights')\n",
    "plt.hist(austin_six_los['competitive_margin'], range=(-500,500), bins=100, color='#F0A02A', alpha=0.5, label='6 Nights')\n",
    "plt.legend(loc='upper right')\n",
    "plt.title('Austin Different Length of Stays')\n",
    "plt.xlabel('Competitive Margin')\n",
    "plt.ylabel('Frequency')\n",
    "plt.show()"
   ]
  },
  {
   "cell_type": "markdown",
   "metadata": {},
   "source": [
    "#### LOS the largest factor in Austin's skewed left distribution"
   ]
  },
  {
   "cell_type": "code",
   "execution_count": 20,
   "metadata": {},
   "outputs": [
    {
     "data": {
      "image/png": "[encoded data removed]",
      "text/plain": [
       "<Figure size 432x288 with 1 Axes>"
      ]
     },
     "metadata": {
      "needs_background": "light"
     },
     "output_type": "display_data"
    }
   ],
   "source": [
    "chicago_one_los = chicago_market[chicago_market['los']==1]\n",
    "chicago_four_los = chicago_market[chicago_market['los']==4]\n",
    "chicago_six_los = chicago_market[chicago_market['los']==6]\n",
    "plt.hist(chicago_one_los['competitive_margin'], range=(-500,500), bins=100, color='#FA6866', alpha=0.5, label='1 Night')\n",
    "plt.hist(chicago_four_los['competitive_margin'], range=(-500,500), bins=100, color='#01AAE4', alpha=0.5, label='4 Nights')\n",
    "plt.hist(chicago_six_los['competitive_margin'], range=(-500,500), bins=100, color='#F0A02A', alpha=0.5, label='6 Nights')\n",
    "plt.legend(loc='upper right')\n",
    "plt.title('Chicago Different Length of Stays')\n",
    "plt.xlabel('Competitive Margin')\n",
    "plt.ylabel('Frequency')\n",
    "plt.show()"
   ]
  },
  {
   "cell_type": "markdown",
   "metadata": {},
   "source": [
    "#### Healthy distribution for Chicago"
   ]
  },
  {
   "cell_type": "code",
   "execution_count": 21,
   "metadata": {},
   "outputs": [
    {
     "data": {
      "text/html": [
       "<div>\n",
       "<style scoped>\n",
       "    .dataframe tbody tr th:only-of-type {\n",
       "        vertical-align: middle;\n",
       "    }\n",
       "\n",
       "    .dataframe tbody tr th {\n",
       "        vertical-align: top;\n",
       "    }\n",
       "\n",
       "    .dataframe thead th {\n",
       "        text-align: right;\n",
       "    }\n",
       "</style>\n",
       "<table border=\"1\" class=\"dataframe\">\n",
       "  <thead>\n",
       "    <tr style=\"text-align: right;\">\n",
       "      <th></th>\n",
       "      <th>market</th>\n",
       "      <th>los</th>\n",
       "      <th>positive_count</th>\n",
       "      <th>count</th>\n",
       "      <th>%_positive_comp_margin</th>\n",
       "    </tr>\n",
       "  </thead>\n",
       "  <tbody>\n",
       "    <tr>\n",
       "      <th>0</th>\n",
       "      <td>Austin</td>\n",
       "      <td>1</td>\n",
       "      <td>83</td>\n",
       "      <td>118</td>\n",
       "      <td>70.3</td>\n",
       "    </tr>\n",
       "    <tr>\n",
       "      <th>1</th>\n",
       "      <td>Austin</td>\n",
       "      <td>4</td>\n",
       "      <td>44</td>\n",
       "      <td>119</td>\n",
       "      <td>37.0</td>\n",
       "    </tr>\n",
       "    <tr>\n",
       "      <th>2</th>\n",
       "      <td>Austin</td>\n",
       "      <td>6</td>\n",
       "      <td>21</td>\n",
       "      <td>119</td>\n",
       "      <td>17.6</td>\n",
       "    </tr>\n",
       "    <tr>\n",
       "      <th>3</th>\n",
       "      <td>Chicago</td>\n",
       "      <td>1</td>\n",
       "      <td>106</td>\n",
       "      <td>120</td>\n",
       "      <td>88.3</td>\n",
       "    </tr>\n",
       "    <tr>\n",
       "      <th>4</th>\n",
       "      <td>Chicago</td>\n",
       "      <td>4</td>\n",
       "      <td>88</td>\n",
       "      <td>120</td>\n",
       "      <td>73.3</td>\n",
       "    </tr>\n",
       "    <tr>\n",
       "      <th>5</th>\n",
       "      <td>Chicago</td>\n",
       "      <td>6</td>\n",
       "      <td>82</td>\n",
       "      <td>120</td>\n",
       "      <td>68.3</td>\n",
       "    </tr>\n",
       "  </tbody>\n",
       "</table>\n",
       "</div>"
      ],
      "text/plain": [
       "    market  los  positive_count  count  %_positive_comp_margin\n",
       "0   Austin    1              83    118                    70.3\n",
       "1   Austin    4              44    119                    37.0\n",
       "2   Austin    6              21    119                    17.6\n",
       "3  Chicago    1             106    120                    88.3\n",
       "4  Chicago    4              88    120                    73.3\n",
       "5  Chicago    6              82    120                    68.3"
      ]
     },
     "execution_count": 21,
     "metadata": {},
     "output_type": "execute_result"
    }
   ],
   "source": [
    "austin_chicago_margin = df[(df['market']=='Austin')|(df['market']=='Chicago')]\n",
    "austin_chicago_margin = austin_chicago_margin.groupby(['market', 'los']).agg(\n",
    "    positive_count=('competitive_margin' , lambda x : x[x > 0].count()),\n",
    "    count=('competitive_margin', 'count')).reset_index()\n",
    "austin_chicago_margin = austin_chicago_margin.sort_values(by=['market']).reset_index(drop=True)\n",
    "austin_chicago_margin['%_positive_comp_margin'] = austin_chicago_margin['positive_count'] * 100 / austin_chicago_margin['count']\n",
    "austin_chicago_margin.round(1)"
   ]
  },
  {
   "cell_type": "markdown",
   "metadata": {},
   "source": [
    "#### Only 18% of Austin hotel offerings with 6 nights of stay have positive competitive margins"
   ]
  },
  {
   "cell_type": "code",
   "execution_count": 22,
   "metadata": {},
   "outputs": [
    {
     "data": {
      "image/png": "[encoded data removed]",
      "text/plain": [
       "<Figure size 1080x432 with 2 Axes>"
      ]
     },
     "metadata": {
      "needs_background": "light"
     },
     "output_type": "display_data"
    }
   ],
   "source": [
    "austin_six_los = austin_six_los[austin_six_los.competitive_margin > -4000]\n",
    "fig, (ax1, ax2) = plt.subplots(1, 2, figsize = (15, 6), sharey=True)\n",
    "ax1.plot_date(austin_four_los.shop_date, austin_four_los.competitive_margin, color='#FA6866', alpha=0.5, label='Austin')\n",
    "ax1.plot_date(chicago_four_los.shop_date, chicago_four_los.competitive_margin, color='#01AAE4', alpha=0.5, label='Chicago')\n",
    "ax2.plot_date(austin_six_los.shop_date, austin_six_los.competitive_margin, color='#FA6866', alpha=0.5, label='Austin')\n",
    "ax2.plot_date(chicago_six_los.shop_date, chicago_six_los.competitive_margin, color='#01AAE4', alpha=0.5, label='Chicago')\n",
    "ax1.tick_params(axis='x', rotation=45)\n",
    "ax2.tick_params(axis='x', rotation=45)\n",
    "fig.suptitle('Austin vs Chicago Competitive Margin over Time by Length of Stay', fontsize=16)\n",
    "ax1.title.set_text('4 Nights')\n",
    "ax2.title.set_text('6 Nights')\n",
    "ax1.set_xlabel('Shop Date')\n",
    "ax1.set_ylabel('Competitive Margin')\n",
    "ax1.set_xlabel('Shop Date')\n",
    "ax1.set_ylabel('Competitive Margin')\n",
    "ax1.legend(loc='lower left')\n",
    "ax2.legend(loc='lower left')\n",
    "ax1.axhline(y=0, color='r', linestyle='-')\n",
    "ax2.axhline(y=0, color='r', linestyle='-')\n",
    "plt.show()"
   ]
  },
  {
   "cell_type": "markdown",
   "metadata": {},
   "source": [
    "#### Visualization of Austin 6 night stays where large percentage of hotels are priced with a negative competitive margin pre-holidays (Christmas and New Years)"
   ]
  },
  {
   "cell_type": "markdown",
   "metadata": {},
   "source": [
    "***"
   ]
  },
  {
   "cell_type": "code",
   "execution_count": 23,
   "metadata": {},
   "outputs": [
    {
     "data": {
      "image/png": "[encoded data removed]",
      "text/plain": [
       "<Figure size 432x288 with 1 Axes>"
      ]
     },
     "metadata": {
      "needs_background": "light"
     },
     "output_type": "display_data"
    }
   ],
   "source": [
    "positive_comp_margin = df[df['competitive_margin'] > 0]\n",
    "negative_comp_margin = df[df['competitive_margin'] < 0]\n",
    "zero_comp_margin = df[df['competitive_margin'] == 0]\n",
    "plt.hist(negative_comp_margin['competitive_margin'], bins=100, range=(-1000,500), color='#FA6866', label='Negative')\n",
    "plt.hist(positive_comp_margin['competitive_margin'], bins=100, range=(-1000,500), color='#01AAE4', label='Positive')\n",
    "plt.hist(zero_comp_margin['competitive_margin'], bins=100, range=(-1000,500), color='#505050', label='Zero')\n",
    "plt.legend(loc='lower left')\n",
    "plt.title('Competitive Margins')\n",
    "plt.show()"
   ]
  },
  {
   "cell_type": "markdown",
   "metadata": {},
   "source": [
    "#### Overall competitive margin distributions"
   ]
  },
  {
   "cell_type": "code",
   "execution_count": 24,
   "metadata": {},
   "outputs": [
    {
     "data": {
      "text/html": [
       "<div>\n",
       "<style scoped>\n",
       "    .dataframe tbody tr th:only-of-type {\n",
       "        vertical-align: middle;\n",
       "    }\n",
       "\n",
       "    .dataframe tbody tr th {\n",
       "        vertical-align: top;\n",
       "    }\n",
       "\n",
       "    .dataframe thead th {\n",
       "        text-align: right;\n",
       "    }\n",
       "</style>\n",
       "<table border=\"1\" class=\"dataframe\">\n",
       "  <thead>\n",
       "    <tr style=\"text-align: right;\">\n",
       "      <th></th>\n",
       "      <th>los</th>\n",
       "      <th>positive_count</th>\n",
       "      <th>count</th>\n",
       "      <th>%_positive_comp_margin</th>\n",
       "    </tr>\n",
       "  </thead>\n",
       "  <tbody>\n",
       "    <tr>\n",
       "      <th>0</th>\n",
       "      <td>1</td>\n",
       "      <td>2011</td>\n",
       "      <td>2698</td>\n",
       "      <td>74.5</td>\n",
       "    </tr>\n",
       "    <tr>\n",
       "      <th>1</th>\n",
       "      <td>4</td>\n",
       "      <td>1511</td>\n",
       "      <td>2693</td>\n",
       "      <td>56.1</td>\n",
       "    </tr>\n",
       "    <tr>\n",
       "      <th>2</th>\n",
       "      <td>6</td>\n",
       "      <td>1349</td>\n",
       "      <td>2689</td>\n",
       "      <td>50.2</td>\n",
       "    </tr>\n",
       "  </tbody>\n",
       "</table>\n",
       "</div>"
      ],
      "text/plain": [
       "   los  positive_count  count  %_positive_comp_margin\n",
       "0    1            2011   2698                    74.5\n",
       "1    4            1511   2693                    56.1\n",
       "2    6            1349   2689                    50.2"
      ]
     },
     "execution_count": 24,
     "metadata": {},
     "output_type": "execute_result"
    }
   ],
   "source": [
    "overall_margin_stats = df.groupby(['los']).agg(\n",
    "    positive_count=('competitive_margin' , lambda x : x[x > 0].count()),\n",
    "    count=('competitive_margin', 'count')).reset_index()\n",
    "overall_margin_stats = overall_margin_stats.sort_values(by=['los']).reset_index(drop=True)\n",
    "overall_margin_stats['%_positive_comp_margin'] = overall_margin_stats['positive_count'] * 100 / overall_margin_stats['count']\n",
    "overall_margin_stats.round(1)"
   ]
  },
  {
   "cell_type": "markdown",
   "metadata": {},
   "source": [
    "#### Investigating the spread between positive competitive margins for different lengths of stay could unlock pricing improvements \n",
    "#### For example, price hotels with 4 nights more aggressively to gain market share (lower Hopper price = increase in positive competitive margin) because the current spread between 4 and 6 nights is low"
   ]
  },
  {
   "cell_type": "code",
   "execution_count": 25,
   "metadata": {},
   "outputs": [],
   "source": [
    "overall_margin_stats = df.groupby(['market', 'los']).agg(\n",
    "    positive_count=('competitive_margin' , lambda x : x[x > 0].count()),\n",
    "    count=('competitive_margin', 'count')).reset_index()\n",
    "overall_margin_stats = overall_margin_stats.sort_values(by=['market', 'los']).reset_index(drop=True)\n",
    "overall_margin_stats['%_positive_comp_margin'] = overall_margin_stats['positive_count'] * 100 / overall_margin_stats['count']"
   ]
  },
  {
   "cell_type": "code",
   "execution_count": 26,
   "metadata": {},
   "outputs": [],
   "source": [
    "los_margin_stats = df.groupby(['shop_date', 'los']).agg(\n",
    "    positive_count=('competitive_margin' , lambda x : x[x > 0].count()),\n",
    "    count=('competitive_margin', 'count')).reset_index()\n",
    "los_margin_stats = los_margin_stats.sort_values(by=['shop_date', 'los']).reset_index(drop=True)\n",
    "los_margin_stats['%_positive_comp_margin'] = los_margin_stats['positive_count'] * 100 / overall_margin_stats['count']\n",
    "one_four_los = los_margin_stats.loc[(los_margin_stats['los']==1)|(los_margin_stats['los']==4)]\n",
    "one_four_los = one_four_los.sort_values(['shop_date', 'los'], ascending=False)\n",
    "one_four_los['one_four_night_spread'] = one_four_los.groupby('shop_date')['%_positive_comp_margin'].diff()\n",
    "one_four_los = one_four_los[['shop_date', 'one_four_night_spread']].dropna().reset_index()\n",
    "four_six_los = los_margin_stats.loc[(los_margin_stats['los']==4)|(los_margin_stats['los']==6)]\n",
    "four_six_los = four_six_los.sort_values(['shop_date', 'los'], ascending=False)\n",
    "four_six_los['four_six_night_spread'] = four_six_los.groupby('shop_date')['%_positive_comp_margin'].diff()\n",
    "four_six_los = four_six_los[['shop_date', 'four_six_night_spread']].dropna().reset_index()"
   ]
  },
  {
   "cell_type": "code",
   "execution_count": 27,
   "metadata": {},
   "outputs": [
    {
     "data": {
      "image/png": "[encoded data removed]",
      "text/plain": [
       "<Figure size 432x288 with 1 Axes>"
      ]
     },
     "metadata": {
      "needs_background": "light"
     },
     "output_type": "display_data"
    }
   ],
   "source": [
    "plt.plot_date(one_four_los.shop_date, one_four_los['one_four_night_spread'], color='#FA6866', alpha=0.5, label='1-4 Night Spread')\n",
    "plt.plot_date(four_six_los.shop_date, four_six_los['four_six_night_spread'], color='#01AAE4',  alpha=0.5, label='4-6 Night Spread')\n",
    "plt.title('Spread of % Positive Competitive Margin between LOS')\n",
    "plt.xlabel('Competitive Margin')\n",
    "plt.ylabel('Spread of % of Positive Competitive Margin')\n",
    "plt.legend(loc='upper right')\n",
    "plt.xticks(rotation=45)\n",
    "plt.show()"
   ]
  },
  {
   "cell_type": "markdown",
   "metadata": {},
   "source": [
    "#### Spread of different lengths of stay decreasing which indicates healthier competitive pricing for Hopper "
   ]
  }
 ],
 "metadata": {
  "kernelspec": {
   "display_name": "Python 3",
   "language": "python",
   "name": "python3"
  },
  "language_info": {
   "codemirror_mode": {
    "name": "ipython",
    "version": 3
   },
   "file_extension": ".py",
   "mimetype": "text/x-python",
   "name": "python",
   "nbconvert_exporter": "python",
   "pygments_lexer": "ipython3",
   "version": "3.7.6"
  }
 },
 "nbformat": 4,
 "nbformat_minor": 4
}
